{
 "cells": [
  {
   "cell_type": "code",
   "execution_count": 1,
   "metadata": {},
   "outputs": [],
   "source": [
    "#Loading necessary libraries\n",
    "import pandas as pd\n",
    "import numpy as np"
   ]
  },
  {
   "cell_type": "code",
   "execution_count": 50,
   "metadata": {},
   "outputs": [],
   "source": [
    "#Loading the Data\n",
    "Hospital_data = pd.read_excel(\"C:\\\\Users\\\\tuhin\\\\Downloads\\\\Hospital+Performance+Improvement+Dataset.xlsx\")"
   ]
  },
  {
   "cell_type": "code",
   "execution_count": 51,
   "metadata": {},
   "outputs": [
    {
     "data": {
      "text/html": [
       "<div>\n",
       "<style scoped>\n",
       "    .dataframe tbody tr th:only-of-type {\n",
       "        vertical-align: middle;\n",
       "    }\n",
       "\n",
       "    .dataframe tbody tr th {\n",
       "        vertical-align: top;\n",
       "    }\n",
       "\n",
       "    .dataframe thead th {\n",
       "        text-align: right;\n",
       "    }\n",
       "</style>\n",
       "<table border=\"1\" class=\"dataframe\">\n",
       "  <thead>\n",
       "    <tr style=\"text-align: right;\">\n",
       "      <th></th>\n",
       "      <th>Unnamed: 0</th>\n",
       "      <th>Unnamed: 1</th>\n",
       "      <th>Unnamed: 2</th>\n",
       "      <th>Unnamed: 3</th>\n",
       "      <th>Unnamed: 4</th>\n",
       "      <th>Unnamed: 5</th>\n",
       "      <th>Unnamed: 6</th>\n",
       "      <th>Unnamed: 7</th>\n",
       "      <th>Unnamed: 8</th>\n",
       "      <th>Unnamed: 9</th>\n",
       "      <th>Unnamed: 10</th>\n",
       "      <th>Unnamed: 11</th>\n",
       "    </tr>\n",
       "  </thead>\n",
       "  <tbody>\n",
       "    <tr>\n",
       "      <th>0</th>\n",
       "      <td>Note: 1. Data are for a month unless otherwise...</td>\n",
       "      <td>NaN</td>\n",
       "      <td>NaN</td>\n",
       "      <td>NaN</td>\n",
       "      <td>NaN</td>\n",
       "      <td>NaN</td>\n",
       "      <td>NaN</td>\n",
       "      <td>NaN</td>\n",
       "      <td>NaN</td>\n",
       "      <td>NaN</td>\n",
       "      <td>NaN</td>\n",
       "      <td>NaN</td>\n",
       "    </tr>\n",
       "    <tr>\n",
       "      <th>1</th>\n",
       "      <td>NaN</td>\n",
       "      <td>NaN</td>\n",
       "      <td>NaN</td>\n",
       "      <td>NaN</td>\n",
       "      <td>NaN</td>\n",
       "      <td>NaN</td>\n",
       "      <td>NaN</td>\n",
       "      <td>NaN</td>\n",
       "      <td>NaN</td>\n",
       "      <td>NaN</td>\n",
       "      <td>NaN</td>\n",
       "      <td>NaN</td>\n",
       "    </tr>\n",
       "    <tr>\n",
       "      <th>2</th>\n",
       "      <td>Doctor Name</td>\n",
       "      <td>Specialization</td>\n",
       "      <td>Department</td>\n",
       "      <td>Number of Appointments Scheduled</td>\n",
       "      <td>Number of Appointments Completed</td>\n",
       "      <td>Number of Appointments Cancelled due to Non-Av...</td>\n",
       "      <td>Number of Appointments Rescheduled due to Non-...</td>\n",
       "      <td>Number of Appointments Cancelled due to Patien...</td>\n",
       "      <td>Outpatient Wait Time/patient</td>\n",
       "      <td>Patient Satisfaction Score Average (Scale of 5)</td>\n",
       "      <td>Revenue Generated</td>\n",
       "      <td>Expense to Hospital (Doctor Salary per annum)</td>\n",
       "    </tr>\n",
       "    <tr>\n",
       "      <th>3</th>\n",
       "      <td>Doctor A</td>\n",
       "      <td>Orthopaedician</td>\n",
       "      <td>Orthopaedics</td>\n",
       "      <td>112</td>\n",
       "      <td>106</td>\n",
       "      <td>3</td>\n",
       "      <td>4</td>\n",
       "      <td>3</td>\n",
       "      <td>12</td>\n",
       "      <td>3.8</td>\n",
       "      <td>62010</td>\n",
       "      <td>315000</td>\n",
       "    </tr>\n",
       "    <tr>\n",
       "      <th>4</th>\n",
       "      <td>Doctor B</td>\n",
       "      <td>Cardiologist</td>\n",
       "      <td>Cardiology</td>\n",
       "      <td>60</td>\n",
       "      <td>52</td>\n",
       "      <td>3</td>\n",
       "      <td>4</td>\n",
       "      <td>5</td>\n",
       "      <td>12</td>\n",
       "      <td>4.2</td>\n",
       "      <td>25220</td>\n",
       "      <td>311000</td>\n",
       "    </tr>\n",
       "  </tbody>\n",
       "</table>\n",
       "</div>"
      ],
      "text/plain": [
       "                                          Unnamed: 0      Unnamed: 1  \\\n",
       "0  Note: 1. Data are for a month unless otherwise...             NaN   \n",
       "1                                                NaN             NaN   \n",
       "2                                        Doctor Name  Specialization   \n",
       "3                                           Doctor A  Orthopaedician   \n",
       "4                                           Doctor B    Cardiologist   \n",
       "\n",
       "     Unnamed: 2                        Unnamed: 3  \\\n",
       "0           NaN                               NaN   \n",
       "1           NaN                               NaN   \n",
       "2    Department  Number of Appointments Scheduled   \n",
       "3  Orthopaedics                               112   \n",
       "4    Cardiology                                60   \n",
       "\n",
       "                         Unnamed: 4  \\\n",
       "0                               NaN   \n",
       "1                               NaN   \n",
       "2  Number of Appointments Completed   \n",
       "3                               106   \n",
       "4                                52   \n",
       "\n",
       "                                          Unnamed: 5  \\\n",
       "0                                                NaN   \n",
       "1                                                NaN   \n",
       "2  Number of Appointments Cancelled due to Non-Av...   \n",
       "3                                                  3   \n",
       "4                                                  3   \n",
       "\n",
       "                                          Unnamed: 6  \\\n",
       "0                                                NaN   \n",
       "1                                                NaN   \n",
       "2  Number of Appointments Rescheduled due to Non-...   \n",
       "3                                                  4   \n",
       "4                                                  4   \n",
       "\n",
       "                                          Unnamed: 7  \\\n",
       "0                                                NaN   \n",
       "1                                                NaN   \n",
       "2  Number of Appointments Cancelled due to Patien...   \n",
       "3                                                  3   \n",
       "4                                                  5   \n",
       "\n",
       "                     Unnamed: 8  \\\n",
       "0                           NaN   \n",
       "1                           NaN   \n",
       "2  Outpatient Wait Time/patient   \n",
       "3                            12   \n",
       "4                            12   \n",
       "\n",
       "                                        Unnamed: 9        Unnamed: 10  \\\n",
       "0                                              NaN                NaN   \n",
       "1                                              NaN                NaN   \n",
       "2  Patient Satisfaction Score Average (Scale of 5)  Revenue Generated   \n",
       "3                                              3.8              62010   \n",
       "4                                              4.2              25220   \n",
       "\n",
       "                                     Unnamed: 11  \n",
       "0                                            NaN  \n",
       "1                                            NaN  \n",
       "2  Expense to Hospital (Doctor Salary per annum)  \n",
       "3                                         315000  \n",
       "4                                         311000  "
      ]
     },
     "execution_count": 51,
     "metadata": {},
     "output_type": "execute_result"
    }
   ],
   "source": [
    "#Glimpse of Data. It is visible that first two rows have no value hence unnecessary.\n",
    "Hospital_data.head(5)"
   ]
  },
  {
   "cell_type": "code",
   "execution_count": 52,
   "metadata": {},
   "outputs": [],
   "source": [
    "#Dropping first two unnecessary rows\n",
    "Hospital_data.drop([0,1], inplace=True)"
   ]
  },
  {
   "cell_type": "code",
   "execution_count": 53,
   "metadata": {},
   "outputs": [],
   "source": [
    "#Assigning first row details as column heads\n",
    "Hospital_data.columns=Hospital_data.iloc[0]\n",
    "Hospital_data=Hospital_data[1:]"
   ]
  },
  {
   "cell_type": "code",
   "execution_count": 54,
   "metadata": {},
   "outputs": [
    {
     "data": {
      "text/html": [
       "<div>\n",
       "<style scoped>\n",
       "    .dataframe tbody tr th:only-of-type {\n",
       "        vertical-align: middle;\n",
       "    }\n",
       "\n",
       "    .dataframe tbody tr th {\n",
       "        vertical-align: top;\n",
       "    }\n",
       "\n",
       "    .dataframe thead th {\n",
       "        text-align: right;\n",
       "    }\n",
       "</style>\n",
       "<table border=\"1\" class=\"dataframe\">\n",
       "  <thead>\n",
       "    <tr style=\"text-align: right;\">\n",
       "      <th>2</th>\n",
       "      <th>Doctor Name</th>\n",
       "      <th>Specialization</th>\n",
       "      <th>Department</th>\n",
       "      <th>Number of Appointments Scheduled</th>\n",
       "      <th>Number of Appointments Completed</th>\n",
       "      <th>Number of Appointments Cancelled due to Non-Availability of Doctor</th>\n",
       "      <th>Number of Appointments Rescheduled due to Non-Availability of Doctor</th>\n",
       "      <th>Number of Appointments Cancelled due to Patients not showing up</th>\n",
       "      <th>Outpatient Wait Time/patient</th>\n",
       "      <th>Patient Satisfaction Score Average (Scale of 5)</th>\n",
       "      <th>Revenue Generated</th>\n",
       "      <th>Expense to Hospital (Doctor Salary per annum)</th>\n",
       "    </tr>\n",
       "  </thead>\n",
       "  <tbody>\n",
       "    <tr>\n",
       "      <th>3</th>\n",
       "      <td>Doctor A</td>\n",
       "      <td>Orthopaedician</td>\n",
       "      <td>Orthopaedics</td>\n",
       "      <td>112</td>\n",
       "      <td>106</td>\n",
       "      <td>3</td>\n",
       "      <td>4</td>\n",
       "      <td>3</td>\n",
       "      <td>12</td>\n",
       "      <td>3.8</td>\n",
       "      <td>62010</td>\n",
       "      <td>315000</td>\n",
       "    </tr>\n",
       "    <tr>\n",
       "      <th>4</th>\n",
       "      <td>Doctor B</td>\n",
       "      <td>Cardiologist</td>\n",
       "      <td>Cardiology</td>\n",
       "      <td>60</td>\n",
       "      <td>52</td>\n",
       "      <td>3</td>\n",
       "      <td>4</td>\n",
       "      <td>5</td>\n",
       "      <td>12</td>\n",
       "      <td>4.2</td>\n",
       "      <td>25220</td>\n",
       "      <td>311000</td>\n",
       "    </tr>\n",
       "    <tr>\n",
       "      <th>5</th>\n",
       "      <td>Doctor C</td>\n",
       "      <td>Paediatrician</td>\n",
       "      <td>Paediatrics</td>\n",
       "      <td>78</td>\n",
       "      <td>73</td>\n",
       "      <td>2</td>\n",
       "      <td>4</td>\n",
       "      <td>3</td>\n",
       "      <td>11</td>\n",
       "      <td>3.7</td>\n",
       "      <td>21900</td>\n",
       "      <td>157999</td>\n",
       "    </tr>\n",
       "    <tr>\n",
       "      <th>6</th>\n",
       "      <td>Doctor D</td>\n",
       "      <td>Psychiatrist</td>\n",
       "      <td>Psychiatry</td>\n",
       "      <td>55</td>\n",
       "      <td>49</td>\n",
       "      <td>2</td>\n",
       "      <td>3</td>\n",
       "      <td>4</td>\n",
       "      <td>21</td>\n",
       "      <td>4.2</td>\n",
       "      <td>18620</td>\n",
       "      <td>176000</td>\n",
       "    </tr>\n",
       "    <tr>\n",
       "      <th>7</th>\n",
       "      <td>Doctor E</td>\n",
       "      <td>Neurologist</td>\n",
       "      <td>Neurology</td>\n",
       "      <td>45</td>\n",
       "      <td>39</td>\n",
       "      <td>3</td>\n",
       "      <td>2</td>\n",
       "      <td>3</td>\n",
       "      <td>21</td>\n",
       "      <td>3.6</td>\n",
       "      <td>18135</td>\n",
       "      <td>311000</td>\n",
       "    </tr>\n",
       "  </tbody>\n",
       "</table>\n",
       "</div>"
      ],
      "text/plain": [
       "2 Doctor Name  Specialization    Department Number of Appointments Scheduled  \\\n",
       "3    Doctor A  Orthopaedician  Orthopaedics                              112   \n",
       "4    Doctor B    Cardiologist    Cardiology                               60   \n",
       "5    Doctor C   Paediatrician   Paediatrics                               78   \n",
       "6    Doctor D    Psychiatrist    Psychiatry                               55   \n",
       "7    Doctor E     Neurologist     Neurology                               45   \n",
       "\n",
       "2 Number of Appointments Completed  \\\n",
       "3                              106   \n",
       "4                               52   \n",
       "5                               73   \n",
       "6                               49   \n",
       "7                               39   \n",
       "\n",
       "2 Number of Appointments Cancelled due to Non-Availability of Doctor  \\\n",
       "3                                                  3                   \n",
       "4                                                  3                   \n",
       "5                                                  2                   \n",
       "6                                                  2                   \n",
       "7                                                  3                   \n",
       "\n",
       "2 Number of Appointments Rescheduled due to Non-Availability of Doctor  \\\n",
       "3                                                  4                     \n",
       "4                                                  4                     \n",
       "5                                                  4                     \n",
       "6                                                  3                     \n",
       "7                                                  2                     \n",
       "\n",
       "2 Number of Appointments Cancelled due to Patients not showing up  \\\n",
       "3                                                  3                \n",
       "4                                                  5                \n",
       "5                                                  3                \n",
       "6                                                  4                \n",
       "7                                                  3                \n",
       "\n",
       "2 Outpatient Wait Time/patient  \\\n",
       "3                           12   \n",
       "4                           12   \n",
       "5                           11   \n",
       "6                           21   \n",
       "7                           21   \n",
       "\n",
       "2 Patient Satisfaction Score Average (Scale of 5) Revenue Generated  \\\n",
       "3                                             3.8             62010   \n",
       "4                                             4.2             25220   \n",
       "5                                             3.7             21900   \n",
       "6                                             4.2             18620   \n",
       "7                                             3.6             18135   \n",
       "\n",
       "2 Expense to Hospital (Doctor Salary per annum)  \n",
       "3                                        315000  \n",
       "4                                        311000  \n",
       "5                                        157999  \n",
       "6                                        176000  \n",
       "7                                        311000  "
      ]
     },
     "execution_count": 54,
     "metadata": {},
     "output_type": "execute_result"
    }
   ],
   "source": [
    "#Verify the data\n",
    "Hospital_data.head(5)"
   ]
  },
  {
   "cell_type": "code",
   "execution_count": 7,
   "metadata": {},
   "outputs": [
    {
     "data": {
      "text/html": [
       "<div>\n",
       "<style scoped>\n",
       "    .dataframe tbody tr th:only-of-type {\n",
       "        vertical-align: middle;\n",
       "    }\n",
       "\n",
       "    .dataframe tbody tr th {\n",
       "        vertical-align: top;\n",
       "    }\n",
       "\n",
       "    .dataframe thead th {\n",
       "        text-align: right;\n",
       "    }\n",
       "</style>\n",
       "<table border=\"1\" class=\"dataframe\">\n",
       "  <thead>\n",
       "    <tr style=\"text-align: right;\">\n",
       "      <th>2</th>\n",
       "      <th>Doctor Name</th>\n",
       "      <th>Specialization</th>\n",
       "      <th>Department</th>\n",
       "      <th>Number of Appointments Scheduled</th>\n",
       "      <th>Number of Appointments Completed</th>\n",
       "      <th>Number of Appointments Cancelled due to Non-Availability of Doctor</th>\n",
       "      <th>Number of Appointments Rescheduled due to Non-Availability of Doctor</th>\n",
       "      <th>Number of Appointments Cancelled due to Patients not showing up</th>\n",
       "      <th>Outpatient Wait Time/patient</th>\n",
       "      <th>Patient Satisfaction Score Average (Scale of 5)</th>\n",
       "      <th>Revenue Generated</th>\n",
       "      <th>Expense to Hospital (Doctor Salary per annum)</th>\n",
       "    </tr>\n",
       "  </thead>\n",
       "  <tbody>\n",
       "    <tr>\n",
       "      <th>count</th>\n",
       "      <td>30</td>\n",
       "      <td>30</td>\n",
       "      <td>30</td>\n",
       "      <td>30</td>\n",
       "      <td>30</td>\n",
       "      <td>30</td>\n",
       "      <td>30</td>\n",
       "      <td>30</td>\n",
       "      <td>30</td>\n",
       "      <td>30.0</td>\n",
       "      <td>30</td>\n",
       "      <td>30</td>\n",
       "    </tr>\n",
       "    <tr>\n",
       "      <th>unique</th>\n",
       "      <td>30</td>\n",
       "      <td>9</td>\n",
       "      <td>9</td>\n",
       "      <td>22</td>\n",
       "      <td>26</td>\n",
       "      <td>6</td>\n",
       "      <td>7</td>\n",
       "      <td>6</td>\n",
       "      <td>14</td>\n",
       "      <td>10.0</td>\n",
       "      <td>30</td>\n",
       "      <td>27</td>\n",
       "    </tr>\n",
       "    <tr>\n",
       "      <th>top</th>\n",
       "      <td>Doctor U</td>\n",
       "      <td>MD</td>\n",
       "      <td>General Medicine</td>\n",
       "      <td>65</td>\n",
       "      <td>62</td>\n",
       "      <td>3</td>\n",
       "      <td>4</td>\n",
       "      <td>3</td>\n",
       "      <td>12</td>\n",
       "      <td>3.7</td>\n",
       "      <td>18620</td>\n",
       "      <td>311000</td>\n",
       "    </tr>\n",
       "    <tr>\n",
       "      <th>freq</th>\n",
       "      <td>1</td>\n",
       "      <td>5</td>\n",
       "      <td>5</td>\n",
       "      <td>3</td>\n",
       "      <td>2</td>\n",
       "      <td>10</td>\n",
       "      <td>10</td>\n",
       "      <td>9</td>\n",
       "      <td>5</td>\n",
       "      <td>5.0</td>\n",
       "      <td>1</td>\n",
       "      <td>2</td>\n",
       "    </tr>\n",
       "  </tbody>\n",
       "</table>\n",
       "</div>"
      ],
      "text/plain": [
       "2      Doctor Name Specialization        Department  \\\n",
       "count           30             30                30   \n",
       "unique          30              9                 9   \n",
       "top       Doctor U             MD  General Medicine   \n",
       "freq             1              5                 5   \n",
       "\n",
       "2       Number of Appointments Scheduled  Number of Appointments Completed  \\\n",
       "count                                 30                                30   \n",
       "unique                                22                                26   \n",
       "top                                   65                                62   \n",
       "freq                                   3                                 2   \n",
       "\n",
       "2       Number of Appointments Cancelled due to Non-Availability of Doctor  \\\n",
       "count                                                  30                    \n",
       "unique                                                  6                    \n",
       "top                                                     3                    \n",
       "freq                                                   10                    \n",
       "\n",
       "2       Number of Appointments Rescheduled due to Non-Availability of Doctor  \\\n",
       "count                                                  30                      \n",
       "unique                                                  7                      \n",
       "top                                                     4                      \n",
       "freq                                                   10                      \n",
       "\n",
       "2       Number of Appointments Cancelled due to Patients not showing up  \\\n",
       "count                                                  30                 \n",
       "unique                                                  6                 \n",
       "top                                                     3                 \n",
       "freq                                                    9                 \n",
       "\n",
       "2       Outpatient Wait Time/patient  \\\n",
       "count                             30   \n",
       "unique                            14   \n",
       "top                               12   \n",
       "freq                               5   \n",
       "\n",
       "2       Patient Satisfaction Score Average (Scale of 5)  Revenue Generated  \\\n",
       "count                                              30.0                 30   \n",
       "unique                                             10.0                 30   \n",
       "top                                                 3.7              18620   \n",
       "freq                                                5.0                  1   \n",
       "\n",
       "2       Expense to Hospital (Doctor Salary per annum)  \n",
       "count                                              30  \n",
       "unique                                             27  \n",
       "top                                            311000  \n",
       "freq                                                2  "
      ]
     },
     "execution_count": 7,
     "metadata": {},
     "output_type": "execute_result"
    }
   ],
   "source": [
    "#Describe the dataset for understanding column behaviours\n",
    "Hospital_data.describe()"
   ]
  },
  {
   "cell_type": "code",
   "execution_count": 29,
   "metadata": {},
   "outputs": [
    {
     "name": "stdout",
     "output_type": "stream",
     "text": [
      "Department\n",
      "Orthopaedics        399\n",
      "General Medicine    392\n",
      "Gynecology          282\n",
      "Cardiology          265\n",
      "Paediatrics         223\n",
      "Neurology           168\n",
      "Opthalmology        141\n",
      "Skin                135\n",
      "Psychiatry          113\n",
      "Name: Number of Appointments Scheduled, dtype: int64\n"
     ]
    }
   ],
   "source": [
    "#Department wise \"Appointment schedule\" count with descending order\n",
    "Dept_apt_sch = Hospital_data.groupby(\"Department\")[\"Number of Appointments Scheduled\"].sum().sort_values(ascending=False)\n",
    "print(Dept_apt_sch)"
   ]
  },
  {
   "cell_type": "code",
   "execution_count": 30,
   "metadata": {},
   "outputs": [
    {
     "name": "stdout",
     "output_type": "stream",
     "text": [
      "Department\n",
      "General Medicine    5\n",
      "Orthopaedics        4\n",
      "Neurology           4\n",
      "Gynecology          4\n",
      "Cardiology          4\n",
      "Paediatrics         3\n",
      "Skin                2\n",
      "Psychiatry          2\n",
      "Opthalmology        2\n",
      "Name: Doctor Name, dtype: int64\n"
     ]
    }
   ],
   "source": [
    "#Department wise \"Doctors\" count with descending order\n",
    "Dept_Doc_count = Hospital_data.groupby(\"Department\")[\"Doctor Name\"].count().sort_values(ascending=False)\n",
    "print(Dept_Doc_count)"
   ]
  },
  {
   "cell_type": "code",
   "execution_count": 31,
   "metadata": {},
   "outputs": [
    {
     "name": "stdout",
     "output_type": "stream",
     "text": [
      "Department\n",
      "Orthopaedics        99.750000\n",
      "General Medicine    78.400000\n",
      "Paediatrics         74.333333\n",
      "Opthalmology        70.500000\n",
      "Gynecology          70.500000\n",
      "Skin                67.500000\n",
      "Cardiology          66.250000\n",
      "Psychiatry          56.500000\n",
      "Neurology           42.000000\n",
      "dtype: float64\n"
     ]
    }
   ],
   "source": [
    "#Department wise Appointment count per doctor with descending order\n",
    "Dept_Apt_count_per_doc = (Hospital_data.groupby(\"Department\")[\"Number of Appointments Scheduled\"].sum()/Hospital_data.groupby(\"Department\")[\"Doctor Name\"].count()).sort_values(ascending=False)\n",
    "print(Dept_Apt_count_per_doc)"
   ]
  },
  {
   "cell_type": "code",
   "execution_count": 58,
   "metadata": {},
   "outputs": [
    {
     "name": "stdout",
     "output_type": "stream",
     "text": [
      "Department\n",
      "General Medicine    20\n",
      "Orthopaedics        14\n",
      "Cardiology          14\n",
      "Neurology           11\n",
      "Gynecology          10\n",
      "Paediatrics          9\n",
      "Skin                 7\n",
      "Opthalmology         5\n",
      "Psychiatry           3\n",
      "Name: Number of Appointments Cancelled due to Non-Availability of Doctor, dtype: int64\n"
     ]
    }
   ],
   "source": [
    "#Department wise \"Number of Appointments Cancelled due to Non-Availability of Doctor\" count with descending order\n",
    "Dept_Doc_Apt_Cancel = Hospital_data.groupby(\"Department\")[\"Number of Appointments Cancelled due to Non-Availability of Doctor\"].sum().sort_values(ascending=False)\n",
    "print(Dept_Doc_Apt_Cancel)"
   ]
  },
  {
   "cell_type": "code",
   "execution_count": 65,
   "metadata": {},
   "outputs": [
    {
     "name": "stdout",
     "output_type": "stream",
     "text": [
      "Department\n",
      "Cardiology          20\n",
      "Orthopaedics        14\n",
      "Neurology           14\n",
      "General Medicine    14\n",
      "Paediatrics         10\n",
      "Gynecology          10\n",
      "Skin                 8\n",
      "Psychiatry           6\n",
      "Opthalmology         4\n",
      "Name: Number of Appointments Cancelled due to Patients not showing up, dtype: int64\n"
     ]
    }
   ],
   "source": [
    "#Department wise \"Number of Appointments Cancelled due to Patients not showing up\" count with descending order\n",
    "Dept_Patient_Apt_Cancel = Hospital_data.groupby(\"Department\")[\"Number of Appointments Cancelled due to Patients not showing up\"].sum().sort_values(ascending=False)\n",
    "print(Dept_Patient_Apt_Cancel)"
   ]
  },
  {
   "cell_type": "code",
   "execution_count": 32,
   "metadata": {},
   "outputs": [
    {
     "name": "stdout",
     "output_type": "stream",
     "text": [
      "Department\n",
      "Gynecology          82\n",
      "Orthopaedics        65\n",
      "Neurology           65\n",
      "General Medicine    46\n",
      "Cardiology          46\n",
      "Psychiatry          44\n",
      "Opthalmology        44\n",
      "Paediatrics         26\n",
      "Skin                20\n",
      "Name: Outpatient Wait Time/patient, dtype: int64\n"
     ]
    }
   ],
   "source": [
    "#Department wise \"Outpatient Wait Time\" count with descending order\n",
    "Dept_Out_wait = Hospital_data.groupby(\"Department\")[\"Outpatient Wait Time/patient\"].sum().sort_values(ascending=False)\n",
    "print(Dept_Out_wait)"
   ]
  },
  {
   "cell_type": "code",
   "execution_count": 38,
   "metadata": {},
   "outputs": [
    {
     "name": "stdout",
     "output_type": "stream",
     "text": [
      "Department\n",
      "Orthopaedics        371\n",
      "General Medicine    358\n",
      "Gynecology          262\n",
      "Cardiology          231\n",
      "Paediatrics         204\n",
      "Neurology           143\n",
      "Opthalmology        132\n",
      "Skin                120\n",
      "Psychiatry          104\n",
      "Name: Number of Appointments Completed, dtype: int64\n"
     ]
    }
   ],
   "source": [
    "#Department wise \"Number of Appointments Completed\" count with descending order\n",
    "Dept_Apt_completed = Hospital_data.groupby(\"Department\")[\"Number of Appointments Completed\"].sum().sort_values(ascending=False)\n",
    "print(Dept_Apt_completed)"
   ]
  },
  {
   "cell_type": "code",
   "execution_count": 33,
   "metadata": {},
   "outputs": [
    {
     "name": "stdout",
     "output_type": "stream",
     "text": [
      "Department\n",
      "Orthopaedics        214695\n",
      "Cardiology          117452\n",
      "Gynecology           97916\n",
      "Neurology            84332\n",
      "General Medicine     78540\n",
      "Opthalmology         72550\n",
      "Paediatrics          57284\n",
      "Skin                 32600\n",
      "Psychiatry           32370\n",
      "Name: Revenue Generated, dtype: int64\n"
     ]
    }
   ],
   "source": [
    "#Department wise Revenue generation with descending order\n",
    "Dept_Total_Rev = Hospital_data.groupby(\"Department\")[\"Revenue Generated\"].sum().sort_values(ascending=False)\n",
    "print(Dept_Total_Rev)"
   ]
  },
  {
   "cell_type": "code",
   "execution_count": 16,
   "metadata": {
    "scrolled": false
   },
   "outputs": [
    {
     "name": "stdout",
     "output_type": "stream",
     "text": [
      "Department\n",
      "Orthopaedics        99.750000\n",
      "General Medicine    78.400000\n",
      "Paediatrics         74.333333\n",
      "Opthalmology        70.500000\n",
      "Gynecology          70.500000\n",
      "Skin                67.500000\n",
      "Cardiology          66.250000\n",
      "Psychiatry          56.500000\n",
      "Neurology           42.000000\n",
      "dtype: float64\n"
     ]
    }
   ],
   "source": [
    "#How much volume can a department handle?\n",
    "Volumn_of_dept = (Hospital_data.groupby(\"Department\")[\"Number of Appointments Scheduled\"].sum()/Hospital_data.groupby(\"Department\")[\"Doctor Name\"].count()).sort_values(ascending=False)\n",
    "print(Volumn_of_dept)"
   ]
  },
  {
   "cell_type": "code",
   "execution_count": 27,
   "metadata": {},
   "outputs": [
    {
     "data": {
      "text/plain": [
       "Department\n",
       "Orthopaedics        0.261709\n",
       "Cardiology          0.143172\n",
       "Gynecology          0.119358\n",
       "Neurology           0.102799\n",
       "General Medicine    0.095739\n",
       "Opthalmology        0.088437\n",
       "Paediatrics         0.069828\n",
       "Skin                0.039739\n",
       "Psychiatry          0.039458\n",
       "Name: Revenue Generated, dtype: float64"
      ]
     },
     "execution_count": 27,
     "metadata": {},
     "output_type": "execute_result"
    }
   ],
   "source": [
    "#((Hospital_data.groupby(\"Department\")[\"Revenue Generated\"].sum())/Hospital_data[\"Expense to Hospital (Doctor Salary per annum)\"].sum()).sort_values(ascending=False)\n",
    "\n",
    "Dept_E2H_monthly = (Hospital_data.groupby(\"Department\")[\"Expense to Hospital (Doctor Salary per annum)\"].sum())/12\n",
    "print(Dept_E2H_monthly)"
   ]
  },
  {
   "cell_type": "code",
   "execution_count": 39,
   "metadata": {},
   "outputs": [
    {
     "data": {
      "text/plain": [
       "Department\n",
       "Opthalmology        2.737736\n",
       "Orthopaedics        1.992702\n",
       "Paediatrics         1.456160\n",
       "Gynecology          1.397230\n",
       "General Medicine    1.225592\n",
       "Skin                1.157396\n",
       "Cardiology          1.124840\n",
       "Psychiatry          1.116207\n",
       "Neurology           0.840233\n",
       "dtype: float64"
      ]
     },
     "execution_count": 39,
     "metadata": {},
     "output_type": "execute_result"
    }
   ],
   "source": [
    "#Which department is generating the most revenue per dollar spent on it?\n",
    "(Dept_Total_Rev/Dept_E2H_monthly).sort_values(ascending=False)"
   ]
  },
  {
   "cell_type": "code",
   "execution_count": 55,
   "metadata": {},
   "outputs": [
    {
     "name": "stdout",
     "output_type": "stream",
     "text": [
      "Department\n",
      "Orthopaedics        92.75\n",
      "General Medicine    71.60\n",
      "Paediatrics         68.00\n",
      "Opthalmology        66.00\n",
      "Gynecology          65.50\n",
      "Skin                60.00\n",
      "Cardiology          57.75\n",
      "Psychiatry          52.00\n",
      "Neurology           35.75\n",
      "dtype: float64\n"
     ]
    }
   ],
   "source": [
    "#How well is each department utilising its doctors?\n",
    "Dept_Doc_Utilisation = (Dept_Apt_completed/Dept_Doc_count).sort_values(ascending=False)\n",
    "print(Dept_Doc_Utilisation)"
   ]
  },
  {
   "cell_type": "code",
   "execution_count": 56,
   "metadata": {},
   "outputs": [
    {
     "data": {
      "text/plain": [
       "Department\n",
       "Opthalmology        4.150000\n",
       "Psychiatry          4.000000\n",
       "Orthopaedics        4.000000\n",
       "Paediatrics         3.966667\n",
       "Skin                3.900000\n",
       "Cardiology          3.875000\n",
       "Gynecology          3.825000\n",
       "General Medicine    3.820000\n",
       "Neurology           3.700000\n",
       "Name: Patient Satisfaction Score Average (Scale of 5), dtype: float64"
      ]
     },
     "execution_count": 56,
     "metadata": {},
     "output_type": "execute_result"
    }
   ],
   "source": [
    "#Check types of columns and change accordingly for mean function\n",
    "Hospital_data.dtypes\n",
    "Hospital_data[\"Patient Satisfaction Score Average (Scale of 5)\"] = Hospital_data[\"Patient Satisfaction Score Average (Scale of 5)\"].astype('float')"
   ]
  },
  {
   "cell_type": "code",
   "execution_count": 57,
   "metadata": {},
   "outputs": [
    {
     "name": "stdout",
     "output_type": "stream",
     "text": [
      "Department\n",
      "Opthalmology        4.150000\n",
      "Psychiatry          4.000000\n",
      "Orthopaedics        4.000000\n",
      "Paediatrics         3.966667\n",
      "Skin                3.900000\n",
      "Cardiology          3.875000\n",
      "Gynecology          3.825000\n",
      "General Medicine    3.820000\n",
      "Neurology           3.700000\n",
      "Name: Patient Satisfaction Score Average (Scale of 5), dtype: float64\n"
     ]
    }
   ],
   "source": [
    "#Which departments are patients most satisfied with?\n",
    "Dept_satifaction_score = Hospital_data.groupby(\"Department\")[\"Patient Satisfaction Score Average (Scale of 5)\"].mean().sort_values(ascending=False)\n",
    "print(Dept_satifaction_score)"
   ]
  },
  {
   "cell_type": "code",
   "execution_count": 66,
   "metadata": {},
   "outputs": [
    {
     "name": "stdout",
     "output_type": "stream",
     "text": [
      "Department\n",
      "Cardiology          508.450216\n",
      "General Medicine    219.385475\n",
      "Gynecology          373.725191\n",
      "Neurology           589.734266\n",
      "Opthalmology        549.621212\n",
      "Orthopaedics        578.692722\n",
      "Paediatrics         280.803922\n",
      "Psychiatry          311.250000\n",
      "Skin                271.666667\n",
      "dtype: float64\n"
     ]
    }
   ],
   "source": [
    "Dept_Rev_Per_Patient = Dept_Total_Rev/(Dept_apt_sch-(Dept_Doc_Apt_Cancel+Dept_Patient_Apt_Cancel))\n",
    "print(Dept_Rev_Per_Patient)"
   ]
  },
  {
   "cell_type": "code",
   "execution_count": 67,
   "metadata": {},
   "outputs": [
    {
     "name": "stdout",
     "output_type": "stream",
     "text": [
      "Department\n",
      "Cardiology          7118.303030\n",
      "General Medicine    4387.709497\n",
      "Gynecology          3737.251908\n",
      "Neurology           6487.076923\n",
      "Opthalmology        2748.106061\n",
      "Orthopaedics        8101.698113\n",
      "Paediatrics         2527.235294\n",
      "Psychiatry           933.750000\n",
      "Skin                1901.666667\n",
      "dtype: float64\n"
     ]
    }
   ],
   "source": [
    "Dept_Revenue_loss = Dept_Doc_Apt_Cancel*Dept_Rev_Per_Patient\n",
    "print(Dept_Revenue_loss)"
   ]
  },
  {
   "cell_type": "code",
   "execution_count": 68,
   "metadata": {},
   "outputs": [
    {
     "name": "stdout",
     "output_type": "stream",
     "text": [
      "Department\n",
      "Neurology           7.142857\n",
      "Cardiology          5.714286\n",
      "Skin                5.511811\n",
      "General Medicine    5.291005\n",
      "Paediatrics         4.225352\n",
      "Gynecology          3.676471\n",
      "Opthalmology        3.649635\n",
      "Orthopaedics        3.636364\n",
      "Psychiatry          2.803738\n",
      "dtype: float64\n"
     ]
    }
   ],
   "source": [
    "#How much revenue is each department losing because of doctors cancelling their appointments?\n",
    "Dept_Revenue_leakage = ((Dept_Revenue_loss/(Dept_Revenue_loss+Dept_Total_Rev))*100).sort_values(ascending=False)\n",
    "print(Dept_Revenue_leakage)"
   ]
  }
 ],
 "metadata": {
  "kernelspec": {
   "display_name": "Python 3",
   "language": "python",
   "name": "python3"
  },
  "language_info": {
   "codemirror_mode": {
    "name": "ipython",
    "version": 3
   },
   "file_extension": ".py",
   "mimetype": "text/x-python",
   "name": "python",
   "nbconvert_exporter": "python",
   "pygments_lexer": "ipython3",
   "version": "3.7.3"
  }
 },
 "nbformat": 4,
 "nbformat_minor": 2
}
